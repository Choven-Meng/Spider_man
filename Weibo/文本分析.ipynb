{
 "cells": [
  {
   "cell_type": "code",
   "execution_count": 26,
   "metadata": {},
   "outputs": [],
   "source": [
    "import pandas as pd\n",
    "import re\n",
    "import warnings\n",
    "warnings.filterwarnings('ignore')"
   ]
  },
  {
   "cell_type": "code",
   "execution_count": 27,
   "metadata": {},
   "outputs": [],
   "source": [
    "data = pd.read_excel(保存数据的excel地址,sheet_name='Sheet1')"
   ]
  },
  {
   "cell_type": "code",
   "execution_count": 29,
   "metadata": {},
   "outputs": [],
   "source": [
    "for i in range(len(data['text'])):\n",
    "    string = data['text'][i]\n",
    "    # 匹配所有特殊字符并转化为空格\n",
    "    pattern = re.compile('[^\\u4E00-\\u9FD5]+')\n",
    "    data['text'][i] = re.sub(pattern,' ',string)"
   ]
  },
  {
   "cell_type": "code",
   "execution_count": 7,
   "metadata": {},
   "outputs": [],
   "source": [
    "# 将需要分析的文本信息写入txt文件\n",
    "with open(txt文件地址,'a+') as f:\n",
    "    for i in range(len(data['text'])):\n",
    "        f.write(data['text'][i] + '\\r')"
   ]
  },
  {
   "cell_type": "code",
   "execution_count": 9,
   "metadata": {},
   "outputs": [],
   "source": [
    "import jieba\n",
    "import jieba.analyse"
   ]
  },
  {
   "cell_type": "code",
   "execution_count": null,
   "metadata": {},
   "outputs": [],
   "source": [
    "# 进行jieba分词操作\n",
    "path = txt文件地址\n",
    "file_in = open(path,'r')\n",
    "content = file_in.read()\n",
    "jieba.analyse.set_stop_words(自定义stopwords地址)\n",
    "try:\n",
    "    tags = jieba.analyse.extract_tags(content,topK = 50, withWeight=True)\n",
    "    for v, n in tags:\n",
    "        print(v + '\\t' + str(n))\n",
    "finally:\n",
    "    file_in.close()"
   ]
  }
 ],
 "metadata": {
  "kernelspec": {
   "display_name": "Python 3",
   "language": "python",
   "name": "python3"
  },
  "language_info": {
   "codemirror_mode": {
    "name": "ipython",
    "version": 3
   },
   "file_extension": ".py",
   "mimetype": "text/x-python",
   "name": "python",
   "nbconvert_exporter": "python",
   "pygments_lexer": "ipython3",
   "version": "3.6.5"
  }
 },
 "nbformat": 4,
 "nbformat_minor": 2
}
